{
 "cells": [
  {
   "cell_type": "code",
   "execution_count": 1,
   "id": "4e5aa036-3e0f-4140-ac5f-71769f7bbc33",
   "metadata": {},
   "outputs": [],
   "source": [
    "import pandas as pd\n",
    "import numpy as np\n",
    "import seaborn as sns"
   ]
  },
  {
   "cell_type": "code",
   "execution_count": 2,
   "id": "7edb5dd5-9cc8-4f6f-9032-cc6ee5f125a6",
   "metadata": {},
   "outputs": [
    {
     "name": "stdin",
     "output_type": "stream",
     "text": [
      "Enter a string:  hello\n"
     ]
    },
    {
     "name": "stdout",
     "output_type": "stream",
     "text": [
      "Character counts: {'h': 1, 'e': 1, 'l': 2, 'o': 1}\n"
     ]
    }
   ],
   "source": [
    "def character_count(s):\n",
    "    char_dict = {}\n",
    "    for char in s:\n",
    "        if char in char_dict:\n",
    "            char_dict[char] += 1\n",
    "        else:\n",
    "            char_dict[char] = 1\n",
    "    return char_dict\n",
    "\n",
    "input_string = input(\"Enter a string: \")\n",
    "result = character_count(input_string)\n",
    "print(\"Character counts:\", result)\n"
   ]
  },
  {
   "cell_type": "raw",
   "id": "0caf325d-9698-4279-b8a2-adfb029c9f3d",
   "metadata": {},
   "source": [
    "#2)\n",
    "def is_palindrome(s):\n",
    "    s = s.replace(\" \").lower()\n",
    "    return s == s[::-1]\n",
    "string = input(\"Enter a string: \")\n",
    "if is_palindrome(s):\n",
    "    print(\"The string is a palindrome.\")\n",
    "else:\n",
    "    print(\"The string is not a palindrome.\")\n",
    "\n",
    "\n",
    "    \n",
    "    "
   ]
  },
  {
   "cell_type": "code",
   "execution_count": 10,
   "id": "b4c86a9a-d808-40df-91f8-d013fb6eb989",
   "metadata": {},
   "outputs": [],
   "source": [
    "#3)\n",
    "def second_largest(lst):\n",
    "    first_number = list(set(lst))  \n",
    "    if len(unique_numbers) < 2:\n",
    "        return None  \n",
    "    unique_numbers.sort(reverse=True)\n",
    "    return unique_numbers[1]\n",
    "\n",
    "\n",
    "     "
   ]
  },
  {
   "cell_type": "code",
   "execution_count": 12,
   "id": "2db8b07d-6f41-4b50-8b41-d7aab88a5e5e",
   "metadata": {},
   "outputs": [
    {
     "name": "stdout",
     "output_type": "stream",
     "text": [
      "second largest no. 1\n"
     ]
    }
   ],
   "source": [
    "print('second largest no.', 1)"
   ]
  },
  {
   "cell_type": "code",
   "execution_count": 24,
   "id": "286991d3-7ec5-41b1-b8d4-8330b7d6d7fe",
   "metadata": {},
   "outputs": [
    {
     "ename": "NameError",
     "evalue": "name 'city' is not defined",
     "output_type": "error",
     "traceback": [
      "\u001b[1;31m---------------------------------------------------------------------------\u001b[0m",
      "\u001b[1;31mNameError\u001b[0m                                 Traceback (most recent call last)",
      "Cell \u001b[1;32mIn[24], line 3\u001b[0m\n\u001b[0;32m      1\u001b[0m \u001b[38;5;66;03m# 4) get a datafrome using dictionary\u001b[39;00m\n\u001b[0;32m      2\u001b[0m \u001b[38;5;66;03m#city age column\u001b[39;00m\n\u001b[1;32m----> 3\u001b[0m s \u001b[38;5;241m=\u001b[39m {city: \u001b[38;5;124m'\u001b[39m\u001b[38;5;124mPune\u001b[39m\u001b[38;5;124m'\u001b[39m, age:\u001b[38;5;124m'\u001b[39m\u001b[38;5;124m25\u001b[39m\u001b[38;5;124m'\u001b[39m}\n\u001b[0;32m      4\u001b[0m df \u001b[38;5;241m=\u001b[39m pd\u001b[38;5;241m.\u001b[39mdata_frame[s]\n\u001b[0;32m      5\u001b[0m df\n",
      "\u001b[1;31mNameError\u001b[0m: name 'city' is not defined"
     ]
    }
   ],
   "source": [
    "# 4) get a datafrome using dictionary\n",
    "#city age column\n",
    "s = {city: 'Pune', age:'25'}\n",
    "df = pd.data_frame[s]\n",
    "df"
   ]
  },
  {
   "cell_type": "code",
   "execution_count": 26,
   "id": "090ae518-43e4-4da5-8cdd-beb3fd4e9117",
   "metadata": {},
   "outputs": [],
   "source": [
    "#10)\n",
    "#what is rank function give using a example\n"
   ]
  },
  {
   "cell_type": "code",
   "execution_count": 28,
   "id": "7ba49625-3ba2-4ed2-9324-bf3e618115b0",
   "metadata": {},
   "outputs": [],
   "source": [
    "# 7)\n",
    "#creating fun using lambda with 2 year to existing age"
   ]
  },
  {
   "cell_type": "code",
   "execution_count": 38,
   "id": "3d669016-ef77-4e66-9ed4-d400a6ab62b3",
   "metadata": {},
   "outputs": [
    {
     "name": "stdout",
     "output_type": "stream",
     "text": [
      "New age: 27\n"
     ]
    }
   ],
   "source": [
    "add_two_years = lambda age: age + 2\n",
    "current_age = 25\n",
    "new_age = add_two_years(current_age)\n",
    "print(f\"New age: {new_age}\")\n"
   ]
  },
  {
   "cell_type": "code",
   "execution_count": null,
   "id": "47249766-189b-40e4-8335-b8efaa2aa023",
   "metadata": {},
   "outputs": [],
   "source": []
  },
  {
   "cell_type": "code",
   "execution_count": null,
   "id": "e086718f-ae55-4cd3-90ee-0322b88a634c",
   "metadata": {},
   "outputs": [],
   "source": []
  }
 ],
 "metadata": {
  "kernelspec": {
   "display_name": "Python 3 (ipykernel)",
   "language": "python",
   "name": "python3"
  },
  "language_info": {
   "codemirror_mode": {
    "name": "ipython",
    "version": 3
   },
   "file_extension": ".py",
   "mimetype": "text/x-python",
   "name": "python",
   "nbconvert_exporter": "python",
   "pygments_lexer": "ipython3",
   "version": "3.12.4"
  }
 },
 "nbformat": 4,
 "nbformat_minor": 5
}
